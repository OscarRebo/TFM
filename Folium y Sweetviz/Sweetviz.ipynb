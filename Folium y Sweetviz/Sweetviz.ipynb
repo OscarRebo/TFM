{
 "cells": [
  {
   "cell_type": "code",
   "execution_count": 2,
   "id": "b4d37685",
   "metadata": {},
   "outputs": [
    {
     "name": "stdout",
     "output_type": "stream",
     "text": [
      "Las variables numericas son : ['Arrest', 'Beat', 'District', 'Ward', 'Community Area', 'Year', 'Latitude', 'Longitude', 'Police Districts', 'Police Beats', 'Hora', 'Dia Semana', 'Mes', 'Dia', 'Delito Grave', 'latPaso', 'lonPaso', 'Block_Num', 'Block', 'Block_calle', 'PERCENT OF HOUSING CROWDED', 'PERCENT HOUSEHOLDS BELOW POVERTY', 'PERCENT AGED 16+ UNEMPLOYED', 'PERCENT AGED 25+ WITHOUT HIGH SCHOOL DIPLOMA', 'PERCENT AGED UNDER 18 OR OVER 64', 'PER CAPITA INCOME ', 'HARDSHIP INDEX', 'Safety Score', 'Environment Score', 'Instruction Score', 'Average Student Attendance', 'Rate of Misconducts (per 100 students) ', 'Average Teacher Attendance', 'Individualized Education Program Compliance Rate ', 'ISAT Exceeding Math %', 'ISAT Exceeding Reading % ', 'ISAT Value Add Math', 'ISAT Value Add Read', 'College Enrollment (number of students) ', 'General Services Route ', 'PartidoNBA', 'PartidoNHL', 'PartidoNFL', 'Temperatura(C)']\n",
      "Las variables categoricas son : ['Hora completa', 'Primary Type', 'Date', 'Location Description', 'Lugar', 'Franja Dia', 'Fecha', 'Fin Semana']\n"
     ]
    }
   ],
   "source": [
    "from sklearn.ensemble import RandomForestClassifier\n",
    "from sklearn.metrics import accuracy_score, confusion_matrix, precision_score, recall_score, ConfusionMatrixDisplay\n",
    "import numpy as np \n",
    "import pandas as pd \n",
    "from sklearn.model_selection import train_test_split\n",
    "import seaborn as sns\n",
    "#Cargar datos\n",
    "datos=pd.read_csv(\"D:/MASTER/Chicago/datos.csv\")\n",
    "datos=datos.drop(datos.columns[0], axis=1)\n",
    "datos.columns\n",
    "#datos['Delito Grave'] = pd.factorize(datos[\"Delito Grave\"])[0] \n",
    "# datosf=pd.get_dummies(datosf,columns=[\"Hora\",\"Arrest\",'Block_Num', 'Block', 'Block_calle',])\n",
    "#Descripcion variables\n",
    "# Variables continuas y categoricas\n",
    "numericas=datos._get_numeric_data().columns\n",
    "print(\"Las variables numericas son :\",list(numericas))\n",
    "print(\"Las variables categoricas son :\",list(set(datos.columns)-set(numericas)))\n",
    "# Factorizamos las numericas\n",
    "#Convertimos de categoricas a numericas\n",
    "\n",
    "\n",
    "# Agrupar\n",
    "agrupar = datos.groupby(['Mes','Dia','Community Area','Hora',\"Dia Semana\",\"Year\",\n",
    "                         'Location Description', 'Arrest', 'Beat', 'District', 'Ward',\n",
    "                         'Police Districts','Fin Semana', 'Franja Dia', 'Delito Grave',\n",
    "                         'latPaso', 'lonPaso','Block_Num', 'Block', 'Block_calle',\n",
    "                         'PERCENT OF HOUSING CROWDED','PERCENT HOUSEHOLDS BELOW POVERTY',\n",
    "                         'PERCENT AGED 16+ UNEMPLOYED','PERCENT AGED 25+ WITHOUT HIGH SCHOOL DIPLOMA',\n",
    "                         'PERCENT AGED UNDER 18 OR OVER 64', 'PER CAPITA INCOME ',\n",
    "                         'HARDSHIP INDEX', 'Safety Score', 'Instruction Score',\n",
    "                         'Average Student Attendance', 'Rate of Misconducts (per 100 students) ',\n",
    "                         'Average Teacher Attendance', 'ISAT Exceeding Math %',\n",
    "                         'ISAT Exceeding Reading % ', 'ISAT Value Add Math',\n",
    "                         'ISAT Value Add Read', 'College Enrollment (number of students) ',\n",
    "                         'PartidoNBA', 'PartidoNHL', 'PartidoNFL', 'Temperatura(C)'],as_index=False).agg({\"Primary Type\":\"count\"})\n",
    "agrupar=agrupar.rename(columns={\"Primary Type\":'Delitos Totales'})\n",
    "agrupar.head()\n",
    "agrupar.shape\n",
    "# Crear variable Gravedad dependiento el numero de delitos predichos\n",
    "def gravedad(x):\n",
    "    if(x<=5):\n",
    "        return 0\n",
    "    elif(x>5 and x<=10):\n",
    "        return 1\n",
    "    elif(x>10 and x<=15):\n",
    "        return 2\n",
    "    elif(x>15 and x<=20):\n",
    "        return 3    \n",
    "    else:\n",
    "        return 4\n",
    "agrupar['Gravedad'] = agrupar['Delitos Totales'].apply(gravedad)\n",
    "agrupar = agrupar[['Mes','Dia','Community Area','Hora',\"Dia Semana\",\"Year\",\n",
    "                         'Location Description', 'Arrest', 'Beat', 'District', 'Ward',\n",
    "                         'Police Districts','Fin Semana', 'Franja Dia', 'Delito Grave',\n",
    "                         'latPaso', 'lonPaso','Block_Num', 'Block', 'Block_calle',\n",
    "                         'PERCENT OF HOUSING CROWDED','PERCENT HOUSEHOLDS BELOW POVERTY',\n",
    "                         'PERCENT AGED 16+ UNEMPLOYED','PERCENT AGED 25+ WITHOUT HIGH SCHOOL DIPLOMA',\n",
    "                         'PERCENT AGED UNDER 18 OR OVER 64', 'PER CAPITA INCOME ',\n",
    "                         'HARDSHIP INDEX', 'Safety Score', 'Instruction Score',\n",
    "                         'Average Student Attendance', 'Rate of Misconducts (per 100 students) ',\n",
    "                         'Average Teacher Attendance', 'ISAT Exceeding Math %',\n",
    "                         'ISAT Exceeding Reading % ', 'ISAT Value Add Math',\n",
    "                         'ISAT Value Add Read', 'College Enrollment (number of students) ',\n",
    "                         'PartidoNBA', 'PartidoNHL', 'PartidoNFL', 'Temperatura(C)','Gravedad',\"Delitos Totales\"]]\n",
    "agrupar.head()\n",
    "\n",
    "XG=agrupar[[\"Year\",'Arrest','Police Districts','Delito Grave',\n",
    "               \"lonPaso\",'PERCENT OF HOUSING CROWDED','PERCENT HOUSEHOLDS BELOW POVERTY',\n",
    "                'PERCENT AGED 25+ WITHOUT HIGH SCHOOL DIPLOMA',\n",
    "                'PERCENT AGED UNDER 18 OR OVER 64', 'PER CAPITA INCOME ',\n",
    "                'HARDSHIP INDEX', 'Instruction Score',\n",
    "                'Rate of Misconducts (per 100 students) ',\n",
    "                'ISAT Exceeding Math %','ISAT Exceeding Reading % ',\"Delitos Totales\"]] # independientes\n",
    "yG = agrupar['Gravedad'] # dependientes\n",
    "XDT=agrupar[[\"Year\",'Arrest','Police Districts','Delito Grave',\n",
    "               \"lonPaso\",'PERCENT OF HOUSING CROWDED','PERCENT HOUSEHOLDS BELOW POVERTY',\n",
    "                'PERCENT AGED 25+ WITHOUT HIGH SCHOOL DIPLOMA',\n",
    "                'PERCENT AGED UNDER 18 OR OVER 64', 'PER CAPITA INCOME ',\n",
    "                'HARDSHIP INDEX', 'Instruction Score',\n",
    "                'Rate of Misconducts (per 100 students) ',\n",
    "                'ISAT Exceeding Math %','ISAT Exceeding Reading % ']] # independientes\n",
    "yDT = agrupar['Delitos Totales'] # dependientes"
   ]
  },
  {
   "cell_type": "code",
   "execution_count": 6,
   "id": "7688a0eb",
   "metadata": {},
   "outputs": [
    {
     "data": {
      "application/vnd.jupyter.widget-view+json": {
       "model_id": "6c29410a3fab4f6c971be72e82771ff3",
       "version_major": 2,
       "version_minor": 0
      },
      "text/plain": [
       "                                             |          | [  0%]   00:00 -> (? left)"
      ]
     },
     "metadata": {},
     "output_type": "display_data"
    },
    {
     "ename": "KeyboardInterrupt",
     "evalue": "",
     "output_type": "error",
     "traceback": [
      "\u001b[1;31m---------------------------------------------------------------------------\u001b[0m",
      "\u001b[1;31mKeyboardInterrupt\u001b[0m                         Traceback (most recent call last)",
      "Cell \u001b[1;32mIn[6], line 5\u001b[0m\n\u001b[0;32m      3\u001b[0m \u001b[38;5;28;01mimport\u001b[39;00m \u001b[38;5;21;01msweetviz\u001b[39;00m \u001b[38;5;28;01mas\u001b[39;00m \u001b[38;5;21;01msv\u001b[39;00m\n\u001b[0;32m      4\u001b[0m \u001b[38;5;66;03m#comparison_report = sv.compare([X_train,'Train'], [X_test,'Test'], target_feat='Delito Grave')\u001b[39;00m\n\u001b[1;32m----> 5\u001b[0m comparison_report \u001b[38;5;241m=\u001b[39m \u001b[43msv\u001b[49m\u001b[38;5;241;43m.\u001b[39;49m\u001b[43manalyze\u001b[49m\u001b[43m(\u001b[49m\u001b[43m[\u001b[49m\u001b[43mdatos\u001b[49m\u001b[43m,\u001b[49m\u001b[38;5;124;43m'\u001b[39;49m\u001b[38;5;124;43mDatos\u001b[39;49m\u001b[38;5;124;43m'\u001b[39;49m\u001b[43m]\u001b[49m\u001b[43m,\u001b[49m\u001b[43m \u001b[49m\u001b[43mtarget_feat\u001b[49m\u001b[38;5;241;43m=\u001b[39;49m\u001b[38;5;124;43m'\u001b[39;49m\u001b[38;5;124;43mDelito Grave\u001b[39;49m\u001b[38;5;124;43m'\u001b[39;49m\u001b[43m)\u001b[49m\n\u001b[0;32m      6\u001b[0m \u001b[38;5;66;03m# Step 2: Show the report\u001b[39;00m\n\u001b[0;32m      7\u001b[0m \u001b[38;5;66;03m# The report can be output as a standalone HTML file, OR embedded in this notebook.\u001b[39;00m\n\u001b[0;32m      8\u001b[0m \u001b[38;5;66;03m# For notebooks, we can specify the width, height of the window, as well as scaling of the report itself.\u001b[39;00m\n\u001b[0;32m      9\u001b[0m comparison_report\u001b[38;5;241m.\u001b[39mshow_notebook()\n",
      "File \u001b[1;32md:\\anaconda\\lib\\site-packages\\sweetviz\\sv_public.py:12\u001b[0m, in \u001b[0;36manalyze\u001b[1;34m(source, target_feat, feat_cfg, pairwise_analysis)\u001b[0m\n\u001b[0;32m      8\u001b[0m \u001b[38;5;28;01mdef\u001b[39;00m \u001b[38;5;21manalyze\u001b[39m(source: Union[pd\u001b[38;5;241m.\u001b[39mDataFrame, Tuple[pd\u001b[38;5;241m.\u001b[39mDataFrame, \u001b[38;5;28mstr\u001b[39m]],\n\u001b[0;32m      9\u001b[0m             target_feat: \u001b[38;5;28mstr\u001b[39m \u001b[38;5;241m=\u001b[39m \u001b[38;5;28;01mNone\u001b[39;00m,\n\u001b[0;32m     10\u001b[0m             feat_cfg: FeatureConfig \u001b[38;5;241m=\u001b[39m \u001b[38;5;28;01mNone\u001b[39;00m,\n\u001b[0;32m     11\u001b[0m             pairwise_analysis: \u001b[38;5;28mstr\u001b[39m \u001b[38;5;241m=\u001b[39m \u001b[38;5;124m'\u001b[39m\u001b[38;5;124mauto\u001b[39m\u001b[38;5;124m'\u001b[39m):\n\u001b[1;32m---> 12\u001b[0m     report \u001b[38;5;241m=\u001b[39m \u001b[43msweetviz\u001b[49m\u001b[38;5;241;43m.\u001b[39;49m\u001b[43mDataframeReport\u001b[49m\u001b[43m(\u001b[49m\u001b[43msource\u001b[49m\u001b[43m,\u001b[49m\u001b[43m \u001b[49m\u001b[43mtarget_feat\u001b[49m\u001b[43m,\u001b[49m\u001b[43m \u001b[49m\u001b[38;5;28;43;01mNone\u001b[39;49;00m\u001b[43m,\u001b[49m\n\u001b[0;32m     13\u001b[0m \u001b[43m                                      \u001b[49m\u001b[43mpairwise_analysis\u001b[49m\u001b[43m,\u001b[49m\u001b[43m \u001b[49m\u001b[43mfeat_cfg\u001b[49m\u001b[43m)\u001b[49m\n\u001b[0;32m     14\u001b[0m     \u001b[38;5;28;01mreturn\u001b[39;00m report\n",
      "File \u001b[1;32md:\\anaconda\\lib\\site-packages\\sweetviz\\dataframe_report.py:280\u001b[0m, in \u001b[0;36mDataframeReport.__init__\u001b[1;34m(self, source, target_feature_name, compare, pairwise_analysis, fc)\u001b[0m\n\u001b[0;32m    278\u001b[0m \u001b[38;5;28mself\u001b[39m\u001b[38;5;241m.\u001b[39mprogress_bar\u001b[38;5;241m.\u001b[39mreset(total\u001b[38;5;241m=\u001b[39m\u001b[38;5;28mlen\u001b[39m(features_to_process))\n\u001b[0;32m    279\u001b[0m \u001b[38;5;28mself\u001b[39m\u001b[38;5;241m.\u001b[39mprogress_bar\u001b[38;5;241m.\u001b[39mset_description_str(\u001b[38;5;124m\"\u001b[39m\u001b[38;5;124m[Step 2/3] Processing Pairwise Features\u001b[39m\u001b[38;5;124m\"\u001b[39m)\n\u001b[1;32m--> 280\u001b[0m \u001b[38;5;28;43mself\u001b[39;49m\u001b[38;5;241;43m.\u001b[39;49m\u001b[43mprocess_associations\u001b[49m\u001b[43m(\u001b[49m\u001b[43mfeatures_to_process\u001b[49m\u001b[43m,\u001b[49m\u001b[43m \u001b[49m\u001b[43msource_target_series\u001b[49m\u001b[43m,\u001b[49m\u001b[43m \u001b[49m\u001b[43mcompare_target_series\u001b[49m\u001b[43m)\u001b[49m\n\u001b[0;32m    282\u001b[0m \u001b[38;5;28mself\u001b[39m\u001b[38;5;241m.\u001b[39mprogress_bar\u001b[38;5;241m.\u001b[39mreset(total\u001b[38;5;241m=\u001b[39m\u001b[38;5;241m1\u001b[39m)\n\u001b[0;32m    283\u001b[0m \u001b[38;5;28mself\u001b[39m\u001b[38;5;241m.\u001b[39mprogress_bar\u001b[38;5;241m.\u001b[39mset_description_str(\u001b[38;5;124m\"\u001b[39m\u001b[38;5;124m[Step 3/3] Generating associations graph\u001b[39m\u001b[38;5;124m\"\u001b[39m)\n",
      "File \u001b[1;32md:\\anaconda\\lib\\site-packages\\sweetviz\\dataframe_report.py:438\u001b[0m, in \u001b[0;36mDataframeReport.process_associations\u001b[1;34m(self, features_to_process, source_target_series, compare_target_series)\u001b[0m\n\u001b[0;32m    430\u001b[0m \u001b[38;5;28;01mif\u001b[39;00m \u001b[38;5;28mself\u001b[39m[feature_name][\u001b[38;5;124m\"\u001b[39m\u001b[38;5;124mtype\u001b[39m\u001b[38;5;124m\"\u001b[39m] \u001b[38;5;241m==\u001b[39m FeatureType\u001b[38;5;241m.\u001b[39mTYPE_CAT \u001b[38;5;129;01mor\u001b[39;00m \\\n\u001b[0;32m    431\u001b[0m     \u001b[38;5;28mself\u001b[39m[feature_name][\u001b[38;5;124m\"\u001b[39m\u001b[38;5;124mtype\u001b[39m\u001b[38;5;124m\"\u001b[39m] \u001b[38;5;241m==\u001b[39m FeatureType\u001b[38;5;241m.\u001b[39mTYPE_BOOL:\n\u001b[0;32m    432\u001b[0m     \u001b[38;5;66;03m# CAT/BOOL source\u001b[39;00m\n\u001b[0;32m    433\u001b[0m     \u001b[38;5;66;03m# ------------------------------------\u001b[39;00m\n\u001b[0;32m    434\u001b[0m     \u001b[38;5;28;01mif\u001b[39;00m \u001b[38;5;28mself\u001b[39m[other\u001b[38;5;241m.\u001b[39msource\u001b[38;5;241m.\u001b[39mname][\u001b[38;5;124m\"\u001b[39m\u001b[38;5;124mtype\u001b[39m\u001b[38;5;124m\"\u001b[39m] \u001b[38;5;241m==\u001b[39m FeatureType\u001b[38;5;241m.\u001b[39mTYPE_CAT \u001b[38;5;129;01mor\u001b[39;00m \\\n\u001b[0;32m    435\u001b[0m             \u001b[38;5;28mself\u001b[39m[other\u001b[38;5;241m.\u001b[39msource\u001b[38;5;241m.\u001b[39mname][\u001b[38;5;124m\"\u001b[39m\u001b[38;5;124mtype\u001b[39m\u001b[38;5;124m\"\u001b[39m] \u001b[38;5;241m==\u001b[39m FeatureType\u001b[38;5;241m.\u001b[39mTYPE_BOOL:\n\u001b[0;32m    436\u001b[0m         \u001b[38;5;66;03m# CAT-CAT\u001b[39;00m\n\u001b[0;32m    437\u001b[0m         cur_associations[other\u001b[38;5;241m.\u001b[39msource\u001b[38;5;241m.\u001b[39mname] \u001b[38;5;241m=\u001b[39m \\\n\u001b[1;32m--> 438\u001b[0m             \u001b[43massociations\u001b[49m\u001b[38;5;241;43m.\u001b[39;49m\u001b[43mtheils_u\u001b[49m\u001b[43m(\u001b[49m\u001b[43mfeature\u001b[49m\u001b[38;5;241;43m.\u001b[39;49m\u001b[43msource\u001b[49m\u001b[43m,\u001b[49m\u001b[43m \u001b[49m\u001b[43mother\u001b[49m\u001b[38;5;241;43m.\u001b[39;49m\u001b[43msource\u001b[49m\u001b[43m)\u001b[49m\n\u001b[0;32m    439\u001b[0m         \u001b[38;5;28;01mif\u001b[39;00m process_compare:\n\u001b[0;32m    440\u001b[0m             cur_associations_compare[other\u001b[38;5;241m.\u001b[39msource\u001b[38;5;241m.\u001b[39mname] \u001b[38;5;241m=\u001b[39m \\\n\u001b[0;32m    441\u001b[0m                 associations\u001b[38;5;241m.\u001b[39mtheils_u(feature\u001b[38;5;241m.\u001b[39mcompare, other\u001b[38;5;241m.\u001b[39mcompare)\n",
      "File \u001b[1;32md:\\anaconda\\lib\\site-packages\\sweetviz\\from_dython.py:178\u001b[0m, in \u001b[0;36mtheils_u\u001b[1;34m(y, x, nan_strategy, nan_replace_value)\u001b[0m\n\u001b[0;32m    176\u001b[0m \u001b[38;5;28;01melif\u001b[39;00m nan_strategy \u001b[38;5;241m==\u001b[39m DROP:\n\u001b[0;32m    177\u001b[0m     x, y \u001b[38;5;241m=\u001b[39m remove_incomplete_samples(x, y)\n\u001b[1;32m--> 178\u001b[0m s_xy \u001b[38;5;241m=\u001b[39m \u001b[43mconditional_entropy\u001b[49m\u001b[43m(\u001b[49m\u001b[43mx\u001b[49m\u001b[43m,\u001b[49m\u001b[43m \u001b[49m\u001b[43my\u001b[49m\u001b[43m)\u001b[49m\n\u001b[0;32m    179\u001b[0m x_counter \u001b[38;5;241m=\u001b[39m Counter(x)\n\u001b[0;32m    180\u001b[0m total_occurrences \u001b[38;5;241m=\u001b[39m \u001b[38;5;28msum\u001b[39m(x_counter\u001b[38;5;241m.\u001b[39mvalues())\n",
      "File \u001b[1;32md:\\anaconda\\lib\\site-packages\\sweetviz\\from_dython.py:131\u001b[0m, in \u001b[0;36mconditional_entropy\u001b[1;34m(x, y, nan_strategy, nan_replace_value)\u001b[0m\n\u001b[0;32m    129\u001b[0m     x, y \u001b[38;5;241m=\u001b[39m remove_incomplete_samples(x, y)\n\u001b[0;32m    130\u001b[0m y_counter \u001b[38;5;241m=\u001b[39m Counter(y)\n\u001b[1;32m--> 131\u001b[0m xy_counter \u001b[38;5;241m=\u001b[39m \u001b[43mCounter\u001b[49m\u001b[43m(\u001b[49m\u001b[38;5;28;43mlist\u001b[39;49m\u001b[43m(\u001b[49m\u001b[38;5;28;43mzip\u001b[39;49m\u001b[43m(\u001b[49m\u001b[43mx\u001b[49m\u001b[43m,\u001b[49m\u001b[43m \u001b[49m\u001b[43my\u001b[49m\u001b[43m)\u001b[49m\u001b[43m)\u001b[49m\u001b[43m)\u001b[49m\n\u001b[0;32m    132\u001b[0m total_occurrences \u001b[38;5;241m=\u001b[39m \u001b[38;5;28msum\u001b[39m(y_counter\u001b[38;5;241m.\u001b[39mvalues())\n\u001b[0;32m    133\u001b[0m entropy \u001b[38;5;241m=\u001b[39m \u001b[38;5;241m0.0\u001b[39m\n",
      "File \u001b[1;32md:\\anaconda\\lib\\collections\\__init__.py:552\u001b[0m, in \u001b[0;36mCounter.__init__\u001b[1;34m(self, iterable, **kwds)\u001b[0m\n\u001b[0;32m    541\u001b[0m \u001b[38;5;124;03m'''Create a new, empty Counter object.  And if given, count elements\u001b[39;00m\n\u001b[0;32m    542\u001b[0m \u001b[38;5;124;03mfrom an input iterable.  Or, initialize the count from another mapping\u001b[39;00m\n\u001b[0;32m    543\u001b[0m \u001b[38;5;124;03mof elements to their counts.\u001b[39;00m\n\u001b[1;32m   (...)\u001b[0m\n\u001b[0;32m    549\u001b[0m \n\u001b[0;32m    550\u001b[0m \u001b[38;5;124;03m'''\u001b[39;00m\n\u001b[0;32m    551\u001b[0m \u001b[38;5;28msuper\u001b[39m(Counter, \u001b[38;5;28mself\u001b[39m)\u001b[38;5;241m.\u001b[39m\u001b[38;5;21m__init__\u001b[39m()\n\u001b[1;32m--> 552\u001b[0m \u001b[38;5;28;43mself\u001b[39;49m\u001b[38;5;241;43m.\u001b[39;49m\u001b[43mupdate\u001b[49m\u001b[43m(\u001b[49m\u001b[43miterable\u001b[49m\u001b[43m,\u001b[49m\u001b[43m \u001b[49m\u001b[38;5;241;43m*\u001b[39;49m\u001b[38;5;241;43m*\u001b[39;49m\u001b[43mkwds\u001b[49m\u001b[43m)\u001b[49m\n",
      "File \u001b[1;32md:\\anaconda\\lib\\collections\\__init__.py:638\u001b[0m, in \u001b[0;36mCounter.update\u001b[1;34m(self, iterable, **kwds)\u001b[0m\n\u001b[0;32m    636\u001b[0m     \u001b[38;5;28;01melse\u001b[39;00m:\n\u001b[0;32m    637\u001b[0m         _count_elements(\u001b[38;5;28mself\u001b[39m, iterable)\n\u001b[1;32m--> 638\u001b[0m \u001b[38;5;28;01mif\u001b[39;00m kwds:\n\u001b[0;32m    639\u001b[0m     \u001b[38;5;28mself\u001b[39m\u001b[38;5;241m.\u001b[39mupdate(kwds)\n",
      "\u001b[1;31mKeyboardInterrupt\u001b[0m: "
     ]
    }
   ],
   "source": [
    "X_train, X_test, y_train, y_test = train_test_split(XDT, yDT, test_size = 0.20, random_state = 3)\n",
    "#!pip install sweetviz\n",
    "import sweetviz as sv\n",
    "#comparison_report = sv.compare([X_train,'Train'], [X_test,'Test'], target_feat='Delito Grave')\n",
    "comparison_report = sv.analyze([datos,'Datos'], target_feat='Delito Grave')\n",
    "# Step 2: Show the report\n",
    "# The report can be output as a standalone HTML file, OR embedded in this notebook.\n",
    "# For notebooks, we can specify the width, height of the window, as well as scaling of the report itself.\n",
    "comparison_report.show_notebook() # Using the default values (w=\"100%\", h=750, layout=\"vertical\"), all can be overridden in an INI, see below)"
   ]
  },
  {
   "cell_type": "code",
   "execution_count": 4,
   "id": "50443030",
   "metadata": {},
   "outputs": [
    {
     "name": "stdout",
     "output_type": "stream",
     "text": [
      "Report Report.html was generated! NOTEBOOK/COLAB USERS: the web browser MAY not pop up, regardless, the report IS saved in your notebook/colab files.\n"
     ]
    }
   ],
   "source": [
    "comparison_report.show_html('Report.html')"
   ]
  },
  {
   "cell_type": "code",
   "execution_count": null,
   "id": "7d543e1c",
   "metadata": {},
   "outputs": [],
   "source": []
  }
 ],
 "metadata": {
  "kernelspec": {
   "display_name": "Python 3 (ipykernel)",
   "language": "python",
   "name": "python3"
  },
  "language_info": {
   "codemirror_mode": {
    "name": "ipython",
    "version": 3
   },
   "file_extension": ".py",
   "mimetype": "text/x-python",
   "name": "python",
   "nbconvert_exporter": "python",
   "pygments_lexer": "ipython3",
   "version": "3.8.5"
  }
 },
 "nbformat": 4,
 "nbformat_minor": 5
}
